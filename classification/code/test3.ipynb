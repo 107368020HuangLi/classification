{
 "cells": [
  {
   "cell_type": "code",
   "execution_count": 333,
   "metadata": {},
   "outputs": [],
   "source": [
    "from keras.utils import np_utils\n",
    "from PIL import Image\n",
    "import os,sys\n",
    "from keras.preprocessing.image import ImageDataGenerator, array_to_img, img_to_array, load_img\n",
    "from array import array\n",
    "import numpy as np \n",
    "import matplotlib.pyplot as plot\n",
    "import pandas as pd"
   ]
  },
  {
   "cell_type": "code",
   "execution_count": 334,
   "metadata": {},
   "outputs": [],
   "source": [
    "row,column = 64,64\n",
    "X_train = [] \n",
    "Y_train = []\n",
    "\n",
    "X_testdata  = []\n",
    "classes =  20"
   ]
  },
  {
   "cell_type": "code",
   "execution_count": 335,
   "metadata": {},
   "outputs": [],
   "source": [
    "pathResizedTrainDataBomei_0 = 'C:/hw2/all/new_train/abraham_grampa_simpson/'\n",
    "listingDog_0 = os.listdir(pathResizedTrainDataBomei_0)\n",
    "\n",
    "pathResizedTrainDataBomei_1 = 'C:/hw2/all/new_train/apu_nahasapeemapetilon/'\n",
    "listingDog_1 = os.listdir(pathResizedTrainDataBomei_1)\n",
    "\n",
    "pathResizedTrainDataBomei_2 = 'C:/hw2/all/new_train/bart_simpson/'\n",
    "listingDog_2 = os.listdir(pathResizedTrainDataBomei_2)\n",
    "\n",
    "pathResizedTrainDataBomei_3 = 'C:/hw2/all/new_train/charles_montgomery_burns/'\n",
    "listingDog_3 = os.listdir(pathResizedTrainDataBomei_3)\n",
    "\n",
    "pathResizedTrainDataBomei_4 = 'C:/hw2/all/new_train/chief_wiggum/'\n",
    "listingDog_4 = os.listdir(pathResizedTrainDataBomei_4)\n",
    "\n",
    "pathResizedTrainDataBomei_5 = 'C:/hw2/all/new_train/comic_book_guy/'\n",
    "listingDog_5 = os.listdir(pathResizedTrainDataBomei_5)\n",
    "\n",
    "pathResizedTrainDataBomei_6 = 'C:/hw2/all/new_train/edna_krabappel/'\n",
    "listingDog_6 = os.listdir(pathResizedTrainDataBomei_6)\n",
    "\n",
    "pathResizedTrainDataBomei_7 = 'C:/hw2/all/new_train/homer_simpson/'\n",
    "listingDog_7 = os.listdir(pathResizedTrainDataBomei_7)\n",
    "\n",
    "pathResizedTrainDataBomei_8 = 'C:/hw2/all/new_train/kent_brockman/'\n",
    "listingDog_8 = os.listdir(pathResizedTrainDataBomei_8)\n",
    "\n",
    "pathResizedTrainDataBomei_9 = 'C:/hw2/all/new_train/krusty_the_clown/'\n",
    "listingDog_9 = os.listdir(pathResizedTrainDataBomei_9)\n",
    "\n",
    "pathResizedTrainDataBomei_10 = 'C:/hw2/all/new_train/lenny_leonard/'\n",
    "listingDog_10 = os.listdir(pathResizedTrainDataBomei_10)\n",
    "\n",
    "pathResizedTrainDataBomei_11 = 'C:/hw2/all/new_train/lisa_simpson/'\n",
    "listingDog_11 = os.listdir(pathResizedTrainDataBomei_11)\n",
    "\n",
    "pathResizedTrainDataBomei_12 = 'C:/hw2/all/new_train/marge_simpson/'\n",
    "listingDog_12 = os.listdir(pathResizedTrainDataBomei_12)\n",
    "\n",
    "pathResizedTrainDataBomei_13 = 'C:/hw2/all/new_train/mayor_quimby/'\n",
    "listingDog_13 = os.listdir(pathResizedTrainDataBomei_13)\n",
    "\n",
    "pathResizedTrainDataBomei_14 = 'C:/hw2/all/new_train/milhouse_van_houten/'\n",
    "listingDog_14 = os.listdir(pathResizedTrainDataBomei_14)\n",
    "\n",
    "pathResizedTrainDataBomei_15 = 'C:/hw2/all/new_train/moe_szyslak/'\n",
    "listingDog_15 = os.listdir(pathResizedTrainDataBomei_15)\n",
    "\n",
    "pathResizedTrainDataBomei_16 = 'C:/hw2/all/new_train/ned_flanders/'\n",
    "listingDog_16 = os.listdir(pathResizedTrainDataBomei_16)\n",
    "\n",
    "pathResizedTrainDataBomei_17 = 'C:/hw2/all/new_train/nelson_muntz/'\n",
    "listingDog_17 = os.listdir(pathResizedTrainDataBomei_17)\n",
    "\n",
    "pathResizedTrainDataBomei_18 = 'C:/hw2/all/new_train/principal_skinner/'\n",
    "listingDog_18 = os.listdir(pathResizedTrainDataBomei_18)\n",
    "\n",
    "pathResizedTrainDataBomei_19 = 'C:/hw2/all/new_train/sideshow_bob/'\n",
    "listingDog_19 = os.listdir(pathResizedTrainDataBomei_19)"
   ]
  },
  {
   "cell_type": "code",
   "execution_count": 336,
   "metadata": {},
   "outputs": [],
   "source": [
    "pathResizedTestDataBomei_testdata = 'C:/hw2/all/testtest2/'\n",
    "listingDog_testdata = os.listdir(pathResizedTestDataBomei_testdata)"
   ]
  },
  {
   "cell_type": "code",
   "execution_count": 337,
   "metadata": {},
   "outputs": [],
   "source": [
    "for file in listingDog_0 :\n",
    "     if file != '.DS_Store' :\n",
    "        img = Image.open(pathResizedTrainDataBomei_0 + file)\n",
    "        x = img_to_array(img)\n",
    "        X_train.append(x)\n",
    "        Y_train.append(0) # bomei"
   ]
  },
  {
   "cell_type": "code",
   "execution_count": 338,
   "metadata": {},
   "outputs": [],
   "source": [
    "for file in listingDog_1 :\n",
    "     if file != '.DS_Store' :\n",
    "        img = Image.open(pathResizedTrainDataBomei_1 + file)\n",
    "        x = img_to_array(img)\n",
    "        X_train.append(x)\n",
    "        Y_train.append(1) # bomei"
   ]
  },
  {
   "cell_type": "code",
   "execution_count": 339,
   "metadata": {},
   "outputs": [],
   "source": [
    "for file in listingDog_2 :\n",
    "     if file != '.DS_Store' :\n",
    "        img = Image.open(pathResizedTrainDataBomei_2 + file)\n",
    "        x = img_to_array(img)\n",
    "        X_train.append(x)\n",
    "        Y_train.append(2) # bomei"
   ]
  },
  {
   "cell_type": "code",
   "execution_count": 340,
   "metadata": {},
   "outputs": [],
   "source": [
    "for file in listingDog_3 :\n",
    "     if file != '.DS_Store' :\n",
    "        img = Image.open(pathResizedTrainDataBomei_3 + file)\n",
    "        x = img_to_array(img)\n",
    "        X_train.append(x)\n",
    "        Y_train.append(3) # bomei"
   ]
  },
  {
   "cell_type": "code",
   "execution_count": 341,
   "metadata": {},
   "outputs": [],
   "source": [
    "for file in listingDog_4 :\n",
    "     if file != '.DS_Store' :\n",
    "        img = Image.open(pathResizedTrainDataBomei_4 + file)\n",
    "        x = img_to_array(img)\n",
    "        X_train.append(x)\n",
    "        Y_train.append(4) # bomei"
   ]
  },
  {
   "cell_type": "code",
   "execution_count": 342,
   "metadata": {},
   "outputs": [],
   "source": [
    "for file in listingDog_5 :\n",
    "     if file != '.DS_Store' :\n",
    "        img = Image.open(pathResizedTrainDataBomei_5 + file)\n",
    "        x = img_to_array(img)\n",
    "        X_train.append(x)\n",
    "        Y_train.append(5) # bomei"
   ]
  },
  {
   "cell_type": "code",
   "execution_count": 343,
   "metadata": {},
   "outputs": [],
   "source": [
    "for file in listingDog_6 :\n",
    "     if file != '.DS_Store' :\n",
    "        img = Image.open(pathResizedTrainDataBomei_6 + file)\n",
    "        x = img_to_array(img)\n",
    "        X_train.append(x)\n",
    "        Y_train.append(6) # bomei"
   ]
  },
  {
   "cell_type": "code",
   "execution_count": 344,
   "metadata": {},
   "outputs": [],
   "source": [
    "for file in listingDog_7 :\n",
    "     if file != '.DS_Store' :\n",
    "        img = Image.open(pathResizedTrainDataBomei_7 + file)\n",
    "        x = img_to_array(img)\n",
    "        X_train.append(x)\n",
    "        Y_train.append(7) # bomei"
   ]
  },
  {
   "cell_type": "code",
   "execution_count": 345,
   "metadata": {},
   "outputs": [],
   "source": [
    "for file in listingDog_8 :\n",
    "     if file != '.DS_Store' :\n",
    "        img = Image.open(pathResizedTrainDataBomei_8 + file)\n",
    "        x = img_to_array(img)\n",
    "        X_train.append(x)\n",
    "        Y_train.append(8) # bomei"
   ]
  },
  {
   "cell_type": "code",
   "execution_count": 346,
   "metadata": {},
   "outputs": [],
   "source": [
    "for file in listingDog_9 :\n",
    "     if file != '.DS_Store' :\n",
    "        img = Image.open(pathResizedTrainDataBomei_9 + file)\n",
    "        x = img_to_array(img)\n",
    "        X_train.append(x)\n",
    "        Y_train.append(9) # bomei"
   ]
  },
  {
   "cell_type": "code",
   "execution_count": 347,
   "metadata": {},
   "outputs": [],
   "source": [
    "for file in listingDog_10 :\n",
    "     if file != '.DS_Store' :\n",
    "        img = Image.open(pathResizedTrainDataBomei_10 + file)\n",
    "        x = img_to_array(img)\n",
    "        X_train.append(x)\n",
    "        Y_train.append(10) # bomei"
   ]
  },
  {
   "cell_type": "code",
   "execution_count": 348,
   "metadata": {},
   "outputs": [],
   "source": [
    "for file in listingDog_11 :\n",
    "     if file != '.DS_Store' :\n",
    "        img = Image.open(pathResizedTrainDataBomei_11 + file)\n",
    "        x = img_to_array(img)\n",
    "        X_train.append(x)\n",
    "        Y_train.append(11) # bomei"
   ]
  },
  {
   "cell_type": "code",
   "execution_count": 349,
   "metadata": {},
   "outputs": [],
   "source": [
    "for file in listingDog_12 :\n",
    "     if file != '.DS_Store' :\n",
    "        img = Image.open(pathResizedTrainDataBomei_12 + file)\n",
    "        x = img_to_array(img)\n",
    "        X_train.append(x)\n",
    "        Y_train.append(12) # bomei"
   ]
  },
  {
   "cell_type": "code",
   "execution_count": 350,
   "metadata": {},
   "outputs": [],
   "source": [
    "for file in listingDog_13 :\n",
    "     if file != '.DS_Store' :\n",
    "        img = Image.open(pathResizedTrainDataBomei_13 + file)\n",
    "        x = img_to_array(img)\n",
    "        X_train.append(x)\n",
    "        Y_train.append(13) # bomei"
   ]
  },
  {
   "cell_type": "code",
   "execution_count": 351,
   "metadata": {},
   "outputs": [],
   "source": [
    "for file in listingDog_14 :\n",
    "     if file != '.DS_Store' :\n",
    "        img = Image.open(pathResizedTrainDataBomei_14 + file)\n",
    "        x = img_to_array(img)\n",
    "        X_train.append(x)\n",
    "        Y_train.append(14) # bomei"
   ]
  },
  {
   "cell_type": "code",
   "execution_count": 352,
   "metadata": {},
   "outputs": [],
   "source": [
    "for file in listingDog_15 :\n",
    "     if file != '.DS_Store' :\n",
    "        img = Image.open(pathResizedTrainDataBomei_15 + file)\n",
    "        x = img_to_array(img)\n",
    "        X_train.append(x)\n",
    "        Y_train.append(15) # bomei"
   ]
  },
  {
   "cell_type": "code",
   "execution_count": 353,
   "metadata": {},
   "outputs": [],
   "source": [
    "for file in listingDog_16 :\n",
    "     if file != '.DS_Store' :\n",
    "        img = Image.open(pathResizedTrainDataBomei_16 + file)\n",
    "        x = img_to_array(img)\n",
    "        X_train.append(x)\n",
    "        Y_train.append(16) # bomei"
   ]
  },
  {
   "cell_type": "code",
   "execution_count": 354,
   "metadata": {},
   "outputs": [],
   "source": [
    "for file in listingDog_17 :\n",
    "     if file != '.DS_Store' :\n",
    "        img = Image.open(pathResizedTrainDataBomei_17 + file)\n",
    "        x = img_to_array(img)\n",
    "        X_train.append(x)\n",
    "        Y_train.append(17) # bomei"
   ]
  },
  {
   "cell_type": "code",
   "execution_count": 355,
   "metadata": {},
   "outputs": [],
   "source": [
    "for file in listingDog_18 :\n",
    "     if file != '.DS_Store' :\n",
    "        img = Image.open(pathResizedTrainDataBomei_18 + file)\n",
    "        x = img_to_array(img)\n",
    "        X_train.append(x)\n",
    "        Y_train.append(18) # bomei"
   ]
  },
  {
   "cell_type": "code",
   "execution_count": 356,
   "metadata": {},
   "outputs": [],
   "source": [
    "for file in listingDog_19 :\n",
    "     if file != '.DS_Store' :\n",
    "        img = Image.open(pathResizedTrainDataBomei_19 + file)\n",
    "        x = img_to_array(img)\n",
    "        X_train.append(x)\n",
    "        Y_train.append(19) # bomei"
   ]
  },
  {
   "cell_type": "code",
   "execution_count": 357,
   "metadata": {},
   "outputs": [],
   "source": [
    "for file in listingDog_testdata :\n",
    "     if file != '.DS_Store' :\n",
    "        img_testdata = Image.open(pathResizedTestDataBomei_testdata + file)\n",
    "        x_testdata = img_to_array(img_testdata)\n",
    "        X_testdata.append(x_testdata)"
   ]
  },
  {
   "cell_type": "code",
   "execution_count": null,
   "metadata": {},
   "outputs": [],
   "source": []
  },
  {
   "cell_type": "code",
   "execution_count": 358,
   "metadata": {},
   "outputs": [],
   "source": [
    "X_train = np.array(X_train, dtype=np.float32)\n",
    "X_testdata =  np.array(X_testdata, dtype=np.float32)"
   ]
  },
  {
   "cell_type": "code",
   "execution_count": 359,
   "metadata": {},
   "outputs": [],
   "source": [
    "X_train_normalize = X_train / 255.0\n",
    "X_testdata_normalize = X_testdata / 255.0"
   ]
  },
  {
   "cell_type": "code",
   "execution_count": 361,
   "metadata": {},
   "outputs": [
    {
     "data": {
      "image/png": "[encoded data removed]",
      "text/plain": [
       "<PIL.Image.Image image mode=RGB size=64x64 at 0x1913228EDA0>"
      ]
     },
     "execution_count": 361,
     "metadata": {},
     "output_type": "execute_result"
    }
   ],
   "source": [
    "see = X_testdata_normalize[0]*255\n",
    "new_im = Image.fromarray(see.astype(np.uint8))\n",
    "new_im"
   ]
  },
  {
   "cell_type": "code",
   "execution_count": 28,
   "metadata": {},
   "outputs": [],
   "source": [
    "total_input = len(X_train)\n",
    "Y_train = np.array(Y_train)\n",
    "Y_train = Y_train.reshape(total_input, 1)"
   ]
  },
  {
   "cell_type": "code",
   "execution_count": 29,
   "metadata": {},
   "outputs": [],
   "source": [
    "permutation = np.random.permutation(Y_train.shape[0])\n",
    "shuffled_dataset = X_train_normalize[permutation,:,:]\n",
    "shuffled_labels  = Y_train[permutation]"
   ]
  },
  {
   "cell_type": "code",
   "execution_count": 30,
   "metadata": {},
   "outputs": [
    {
     "data": {
      "text/plain": [
       "array([[12],\n",
       "       [16],\n",
       "       [ 9],\n",
       "       ...,\n",
       "       [ 1],\n",
       "       [ 3],\n",
       "       [ 3]])"
      ]
     },
     "execution_count": 30,
     "metadata": {},
     "output_type": "execute_result"
    }
   ],
   "source": [
    "shuffled_labels "
   ]
  },
  {
   "cell_type": "code",
   "execution_count": 31,
   "metadata": {},
   "outputs": [],
   "source": [
    "shuffled_labels_OneHot = np_utils.to_categorical(shuffled_labels)"
   ]
  },
  {
   "cell_type": "code",
   "execution_count": 32,
   "metadata": {},
   "outputs": [
    {
     "data": {
      "text/plain": [
       "array([[0., 0., 0., 0., 0., 0., 0., 0., 0., 0., 0., 0., 1., 0., 0., 0.,\n",
       "        0., 0., 0., 0.],\n",
       "       [0., 0., 0., 0., 0., 0., 0., 0., 0., 0., 0., 0., 0., 0., 0., 0.,\n",
       "        1., 0., 0., 0.],\n",
       "       [0., 0., 0., 0., 0., 0., 0., 0., 0., 1., 0., 0., 0., 0., 0., 0.,\n",
       "        0., 0., 0., 0.],\n",
       "       [0., 0., 0., 1., 0., 0., 0., 0., 0., 0., 0., 0., 0., 0., 0., 0.,\n",
       "        0., 0., 0., 0.],\n",
       "       [0., 0., 1., 0., 0., 0., 0., 0., 0., 0., 0., 0., 0., 0., 0., 0.,\n",
       "        0., 0., 0., 0.],\n",
       "       [0., 0., 0., 0., 0., 0., 0., 0., 0., 0., 0., 0., 0., 0., 1., 0.,\n",
       "        0., 0., 0., 0.],\n",
       "       [0., 0., 0., 0., 0., 0., 0., 0., 0., 0., 0., 0., 0., 0., 0., 1.,\n",
       "        0., 0., 0., 0.],\n",
       "       [0., 0., 0., 0., 0., 0., 0., 0., 0., 0., 0., 0., 0., 0., 0., 0.,\n",
       "        1., 0., 0., 0.],\n",
       "       [0., 0., 1., 0., 0., 0., 0., 0., 0., 0., 0., 0., 0., 0., 0., 0.,\n",
       "        0., 0., 0., 0.],\n",
       "       [0., 0., 0., 0., 0., 0., 0., 0., 0., 0., 0., 0., 0., 0., 0., 1.,\n",
       "        0., 0., 0., 0.]], dtype=float32)"
      ]
     },
     "execution_count": 32,
     "metadata": {},
     "output_type": "execute_result"
    }
   ],
   "source": [
    "shuffled_labels_OneHot[:10]"
   ]
  },
  {
   "cell_type": "code",
   "execution_count": null,
   "metadata": {},
   "outputs": [],
   "source": []
  },
  {
   "cell_type": "code",
   "execution_count": 33,
   "metadata": {},
   "outputs": [],
   "source": [
    "from keras.models import Sequential\n",
    "from keras.layers import Dense,Dropout,Activation,Flatten\n",
    "from keras.layers import Conv2D, MaxPooling2D,ZeroPadding2D "
   ]
  },
  {
   "cell_type": "code",
   "execution_count": 34,
   "metadata": {},
   "outputs": [],
   "source": [
    "model = Sequential()"
   ]
  },
  {
   "cell_type": "code",
   "execution_count": 35,
   "metadata": {},
   "outputs": [],
   "source": [
    "model.add(Conv2D(filters=32,kernel_size=(3,3),input_shape=(64,64,3),\n",
    "                 activation='relu',padding='same'))\n",
    "model.add(Dropout(rate=0.3))\n",
    "model.add(Conv2D(filters=32,kernel_size=(3,3),\n",
    "                 activation='relu',padding='same'))\n",
    "model.add(MaxPooling2D(pool_size=(2,2)))"
   ]
  },
  {
   "cell_type": "code",
   "execution_count": 36,
   "metadata": {},
   "outputs": [],
   "source": [
    "model.add(Conv2D(filters=64,kernel_size=(3,3),\n",
    "                 activation='relu',padding='same'))\n",
    "model.add(Dropout(rate=0.3))\n",
    "model.add(Conv2D(filters=64,kernel_size=(3,3),\n",
    "                 activation='relu',padding='same'))\n",
    "model.add(MaxPooling2D(pool_size=(2,2)))"
   ]
  },
  {
   "cell_type": "code",
   "execution_count": 37,
   "metadata": {},
   "outputs": [],
   "source": [
    "model.add(Conv2D(filters=128,kernel_size=(3,3),\n",
    "                 activation='relu',padding='same'))\n",
    "model.add(Dropout(rate=0.3))\n",
    "model.add(Conv2D(filters=128,kernel_size=(3,3),\n",
    "                 activation='relu',padding='same'))\n",
    "model.add(MaxPooling2D(pool_size=(2,2)))"
   ]
  },
  {
   "cell_type": "code",
   "execution_count": 38,
   "metadata": {},
   "outputs": [],
   "source": [
    "model.add(Flatten())\n",
    "model.add(Dropout(rate=0.3))\n",
    "model.add(Dense(2500,activation='relu'))\n",
    "model.add(Dropout(rate=0.3))\n",
    "model.add(Dense(1500,activation='relu'))\n",
    "model.add(Dropout(rate=0.3))"
   ]
  },
  {
   "cell_type": "code",
   "execution_count": 39,
   "metadata": {},
   "outputs": [],
   "source": [
    "model.add(Dense(20,activation='softmax'))"
   ]
  },
  {
   "cell_type": "code",
   "execution_count": 40,
   "metadata": {},
   "outputs": [
    {
     "name": "stdout",
     "output_type": "stream",
     "text": [
      "_________________________________________________________________\n",
      "Layer (type)                 Output Shape              Param #   \n",
      "=================================================================\n",
      "conv2d_1 (Conv2D)            (None, 64, 64, 32)        896       \n",
      "_________________________________________________________________\n",
      "dropout_1 (Dropout)          (None, 64, 64, 32)        0         \n",
      "_________________________________________________________________\n",
      "conv2d_2 (Conv2D)            (None, 64, 64, 32)        9248      \n",
      "_________________________________________________________________\n",
      "max_pooling2d_1 (MaxPooling2 (None, 32, 32, 32)        0         \n",
      "_________________________________________________________________\n",
      "conv2d_3 (Conv2D)            (None, 32, 32, 64)        18496     \n",
      "_________________________________________________________________\n",
      "dropout_2 (Dropout)          (None, 32, 32, 64)        0         \n",
      "_________________________________________________________________\n",
      "conv2d_4 (Conv2D)            (None, 32, 32, 64)        36928     \n",
      "_________________________________________________________________\n",
      "max_pooling2d_2 (MaxPooling2 (None, 16, 16, 64)        0         \n",
      "_________________________________________________________________\n",
      "conv2d_5 (Conv2D)            (None, 16, 16, 128)       73856     \n",
      "_________________________________________________________________\n",
      "dropout_3 (Dropout)          (None, 16, 16, 128)       0         \n",
      "_________________________________________________________________\n",
      "conv2d_6 (Conv2D)            (None, 16, 16, 128)       147584    \n",
      "_________________________________________________________________\n",
      "max_pooling2d_3 (MaxPooling2 (None, 8, 8, 128)         0         \n",
      "_________________________________________________________________\n",
      "flatten_1 (Flatten)          (None, 8192)              0         \n",
      "_________________________________________________________________\n",
      "dropout_4 (Dropout)          (None, 8192)              0         \n",
      "_________________________________________________________________\n",
      "dense_1 (Dense)              (None, 2500)              20482500  \n",
      "_________________________________________________________________\n",
      "dropout_5 (Dropout)          (None, 2500)              0         \n",
      "_________________________________________________________________\n",
      "dense_2 (Dense)              (None, 1500)              3751500   \n",
      "_________________________________________________________________\n",
      "dropout_6 (Dropout)          (None, 1500)              0         \n",
      "_________________________________________________________________\n",
      "dense_3 (Dense)              (None, 20)                30020     \n",
      "=================================================================\n",
      "Total params: 24,551,028\n",
      "Trainable params: 24,551,028\n",
      "Non-trainable params: 0\n",
      "_________________________________________________________________\n",
      "None\n"
     ]
    }
   ],
   "source": [
    "print(model.summary())"
   ]
  },
  {
   "cell_type": "code",
   "execution_count": 41,
   "metadata": {},
   "outputs": [],
   "source": [
    "model.compile(loss='categorical_crossentropy',\n",
    "             optimizer='adam',metrics=['accuracy'])"
   ]
  },
  {
   "cell_type": "code",
   "execution_count": 42,
   "metadata": {
    "scrolled": false
   },
   "outputs": [
    {
     "name": "stdout",
     "output_type": "stream",
     "text": [
      "Train on 15638 samples, validate on 3910 samples\n",
      "Epoch 1/25\n",
      " - 369s - loss: 2.8347 - acc: 0.1241 - val_loss: 2.7699 - val_acc: 0.1931\n",
      "Epoch 2/25\n",
      " - 358s - loss: 2.1423 - acc: 0.3492 - val_loss: 1.7503 - val_acc: 0.4913\n",
      "Epoch 3/25\n",
      " - 359s - loss: 1.5273 - acc: 0.5349 - val_loss: 1.5205 - val_acc: 0.5386\n",
      "Epoch 4/25\n",
      " - 358s - loss: 1.1328 - acc: 0.6618 - val_loss: 1.2231 - val_acc: 0.6427\n",
      "Epoch 5/25\n",
      " - 358s - loss: 0.8273 - acc: 0.7478 - val_loss: 0.9215 - val_acc: 0.7402\n",
      "Epoch 6/25\n",
      " - 358s - loss: 0.5981 - acc: 0.8186 - val_loss: 0.8248 - val_acc: 0.7724\n",
      "Epoch 7/25\n",
      " - 358s - loss: 0.4560 - acc: 0.8594 - val_loss: 0.7205 - val_acc: 0.7939\n",
      "Epoch 8/25\n",
      " - 358s - loss: 0.3407 - acc: 0.8955 - val_loss: 0.7392 - val_acc: 0.8028\n",
      "Epoch 9/25\n",
      " - 369s - loss: 0.2741 - acc: 0.9170 - val_loss: 0.6991 - val_acc: 0.8097\n",
      "Epoch 10/25\n",
      " - 367s - loss: 0.1903 - acc: 0.9407 - val_loss: 0.7487 - val_acc: 0.8199\n",
      "Epoch 11/25\n",
      " - 358s - loss: 0.1760 - acc: 0.9442 - val_loss: 0.7237 - val_acc: 0.8256\n",
      "Epoch 12/25\n",
      " - 358s - loss: 0.1388 - acc: 0.9570 - val_loss: 0.7208 - val_acc: 0.8210\n",
      "Epoch 13/25\n",
      " - 358s - loss: 0.1195 - acc: 0.9630 - val_loss: 0.7233 - val_acc: 0.8327\n",
      "Epoch 14/25\n",
      " - 358s - loss: 0.1034 - acc: 0.9670 - val_loss: 0.7612 - val_acc: 0.8302\n",
      "Epoch 15/25\n",
      " - 358s - loss: 0.0952 - acc: 0.9719 - val_loss: 0.6796 - val_acc: 0.8445\n",
      "Epoch 16/25\n",
      " - 359s - loss: 0.0796 - acc: 0.9759 - val_loss: 0.7581 - val_acc: 0.8281\n",
      "Epoch 17/25\n",
      " - 359s - loss: 0.1033 - acc: 0.9682 - val_loss: 0.7898 - val_acc: 0.8297\n",
      "Epoch 18/25\n",
      " - 360s - loss: 0.0819 - acc: 0.9761 - val_loss: 0.7761 - val_acc: 0.8345\n",
      "Epoch 19/25\n",
      " - 360s - loss: 0.0765 - acc: 0.9773 - val_loss: 0.7791 - val_acc: 0.8394\n",
      "Epoch 20/25\n",
      " - 367s - loss: 0.0642 - acc: 0.9806 - val_loss: 0.7278 - val_acc: 0.8371\n",
      "Epoch 21/25\n",
      " - 359s - loss: 0.0711 - acc: 0.9791 - val_loss: 0.7712 - val_acc: 0.8363\n",
      "Epoch 22/25\n",
      " - 361s - loss: 0.0638 - acc: 0.9804 - val_loss: 0.7566 - val_acc: 0.8394\n",
      "Epoch 23/25\n",
      " - 359s - loss: 0.0738 - acc: 0.9770 - val_loss: 0.8486 - val_acc: 0.8292\n",
      "Epoch 24/25\n",
      " - 364s - loss: 0.0690 - acc: 0.9789 - val_loss: 0.7535 - val_acc: 0.8460\n",
      "Epoch 25/25\n",
      " - 363s - loss: 0.0591 - acc: 0.9825 - val_loss: 0.7169 - val_acc: 0.8512\n"
     ]
    }
   ],
   "source": [
    "train_history=model.fit(shuffled_dataset,shuffled_labels_OneHot,\n",
    "                        validation_split=0.2,\n",
    "                        epochs=25,batch_size=150,verbose=2)"
   ]
  },
  {
   "cell_type": "code",
   "execution_count": 43,
   "metadata": {},
   "outputs": [],
   "source": [
    "import matplotlib.pyplot as plot\n",
    "def show_train_history(train_history,train,validation):\n",
    "    plot.plot(train_history.history[train])\n",
    "    plot.plot(train_history.history[validation])\n",
    "    plot.title('Train History')\n",
    "    plot.ylabel(train)\n",
    "    plot.xlabel('Epoch')\n",
    "    plot.legend(['train','validation'],loc='upper left')\n",
    "    plot.show()"
   ]
  },
  {
   "cell_type": "code",
   "execution_count": 44,
   "metadata": {},
   "outputs": [
    {
     "data": {
      "image/png": "[encoded data removed]",
      "text/plain": [
       "<Figure size 432x288 with 1 Axes>"
      ]
     },
     "metadata": {
      "needs_background": "light"
     },
     "output_type": "display_data"
    }
   ],
   "source": [
    "show_train_history(train_history,'acc','val_acc')"
   ]
  },
  {
   "cell_type": "code",
   "execution_count": 45,
   "metadata": {},
   "outputs": [
    {
     "data": {
      "image/png": "[encoded data removed]",
      "text/plain": [
       "<Figure size 432x288 with 1 Axes>"
      ]
     },
     "metadata": {
      "needs_background": "light"
     },
     "output_type": "display_data"
    }
   ],
   "source": [
    "show_train_history(train_history,'loss','val_loss')"
   ]
  },
  {
   "cell_type": "code",
   "execution_count": 66,
   "metadata": {},
   "outputs": [],
   "source": [
    "pre_view = model.predict_classes(X_train_normalize)"
   ]
  },
  {
   "cell_type": "code",
   "execution_count": 68,
   "metadata": {},
   "outputs": [
    {
     "data": {
      "text/plain": [
       "array([0, 0, 0, 0, 0, 0, 0, 0, 0, 0, 0, 0, 0, 1, 1, 1, 1, 1, 5, 1, 1, 1,\n",
       "       1, 1, 1, 1, 1, 1, 1, 1, 1, 1, 1, 1, 1, 1, 1, 1, 1, 1, 1, 1, 7, 1,\n",
       "       1, 1, 1, 1, 1, 1, 5, 1, 1, 1, 1, 1, 1, 1, 1, 1, 1, 8, 1, 1, 1, 1,\n",
       "       1, 1, 1, 1, 1, 1, 1, 1, 1, 1, 1, 1, 1, 1, 1, 1, 1, 1, 1, 1, 1, 1,\n",
       "       1, 1, 1, 1, 1, 1, 1, 1, 1, 1, 1, 1], dtype=int64)"
      ]
     },
     "execution_count": 68,
     "metadata": {},
     "output_type": "execute_result"
    }
   ],
   "source": [
    "pre_view[900:1000]"
   ]
  },
  {
   "cell_type": "code",
   "execution_count": 362,
   "metadata": {
    "scrolled": true
   },
   "outputs": [
    {
     "data": {
      "text/plain": [
       "array([17,  8, 16, 16,  9, 11, 14, 15, 12, 10, 14, 13, 18, 11,  5, 14, 13,\n",
       "        9, 10,  8,  9,  2,  9,  7,  2,  0, 13, 11, 10, 14, 10,  7,  1,  7,\n",
       "        0,  7, 12,  3,  3, 14,  1,  3,  4, 16,  2,  6, 12,  1, 18, 19,  4,\n",
       "        7, 10,  6, 11, 13,  2,  9, 17, 10, 15,  5, 15, 10,  8, 16, 10,  4,\n",
       "        6, 15,  9,  3,  6,  5, 18, 15, 11, 14,  4, 10,  2, 19,  6, 13,  7,\n",
       "       11,  9,  9, 19,  2, 17,  4, 19, 18, 18, 18,  8,  8,  9,  1,  9, 16,\n",
       "        2, 15,  5, 19, 16,  9, 16, 12, 13, 18,  3, 18, 14, 10,  3,  6,  5,\n",
       "       16,  1,  1,  4,  4, 11, 19, 12,  4, 11,  1, 19, 15, 14,  6,  7,  2,\n",
       "        3,  8,  2, 12,  7, 18,  3,  1,  3,  1, 11, 10, 18,  8, 14,  0,  4,\n",
       "        1, 13,  1, 10, 15,  7, 13, 14,  1,  1,  2,  5, 18, 12, 11, 19,  8,\n",
       "       19,  1,  2,  1, 19,  4, 19, 18,  1,  4, 10,  3, 18,  1,  5,  8, 18,\n",
       "        1,  8,  4, 16, 14, 12,  9, 14, 17,  1, 16, 15,  7, 19, 18,  0,  6,\n",
       "       14,  4,  4, 17,  7, 10, 18, 18, 16,  1,  3,  1, 13,  7,  5, 12,  6,\n",
       "        4, 12, 16, 14,  7,  6, 11, 15,  2,  2,  1, 14, 12,  0, 16,  6,  3,\n",
       "        5, 15, 13,  1,  6, 11,  1, 14, 12,  6,  3,  8, 15,  7,  6,  0,  3,\n",
       "        1, 18,  3,  6,  9, 11,  8,  2,  6,  5,  7,  0,  4, 14, 15,  7,  0,\n",
       "       10,  1,  1,  5,  2, 15, 19,  2, 19,  1,  6, 13,  1,  7,  9,  0, 17,\n",
       "        3, 12, 17, 18,  8,  9,  3, 12, 13,  7, 15,  6, 16, 17, 13,  6,  9,\n",
       "        6,  1,  9, 17,  5,  0, 12, 12, 16, 16,  1, 18, 15,  5,  4,  3,  7,\n",
       "        6, 17,  6,  4, 11,  2,  8, 13,  2,  0,  4,  8,  6,  8,  9, 13,  8,\n",
       "        3,  3,  7,  2, 15,  8, 17,  5,  1, 11, 16,  4, 19, 18, 10,  2,  0,\n",
       "       11, 11, 13, 19,  9, 14, 15,  7, 12,  9, 17,  0, 11,  6,  4, 11,  1,\n",
       "        7, 14, 19,  0, 16, 18,  0, 16,  4, 12,  6, 15, 11, 15, 16,  0,  2,\n",
       "       16,  2,  2, 10,  7, 12, 12,  1, 12,  3,  2, 17,  0,  0,  3, 13, 12,\n",
       "       12,  7,  5, 16,  4, 15, 14,  5, 19, 12,  9,  1, 14,  9,  3, 16, 17,\n",
       "       17, 14, 19, 10, 19, 17, 15, 17, 14,  5, 17, 19, 10, 16, 13,  7, 18,\n",
       "       19, 13, 11, 12, 17,  0, 15, 13, 14, 18, 17, 18,  2, 19,  5, 10,  3,\n",
       "       16,  5,  5, 10,  6, 13,  5, 13,  1, 12, 14,  4, 17,  7, 18,  1,  0,\n",
       "        5, 15, 19, 12, 12,  5, 14, 18, 16,  9,  4,  0,  3,  1, 15, 16, 11,\n",
       "       17, 11, 15, 19, 17,  5,  8, 12,  0, 14, 14, 16,  7, 13, 12, 11,  0,\n",
       "        9, 11,  2, 15,  7,  4, 12, 17, 13, 19,  2, 13, 18, 19, 11,  5, 18,\n",
       "       13, 17, 18, 11, 10,  9,  3, 11,  4,  0, 18, 16,  4, 10,  1,  8, 11,\n",
       "       12,  2,  5,  4,  8,  5,  4, 10,  9,  3,  0, 18,  7,  7,  0,  9, 11,\n",
       "        5,  7, 13, 16,  9,  5, 16,  4,  3, 11, 17, 16,  8, 15, 15, 19, 13,\n",
       "        2,  5, 10, 13, 19,  9, 14,  5,  1, 14, 13, 15, 15, 17,  2, 10,  5,\n",
       "       10,  7,  7, 10,  6,  7,  2, 14,  9, 17, 16,  0, 17,  0, 14, 18, 10,\n",
       "       19,  0,  9,  0,  5,  9, 15,  9, 16,  2, 18, 11, 15, 19, 11, 18, 16,\n",
       "        5,  2, 15,  3,  3,  7,  7,  1, 17, 15, 17,  8, 16, 19, 16,  6,  7,\n",
       "        5,  0,  1,  8,  3,  9,  6,  3, 13,  2, 17,  6, 11,  6,  4,  6, 15,\n",
       "       18,  2, 11,  9,  8,  0,  7,  4, 14,  2, 14,  2, 19,  4,  0,  3,  7,\n",
       "       11,  9,  8,  1,  1,  9,  9,  0,  5,  2,  3, 13,  8,  9,  7,  8, 17,\n",
       "       18,  8,  5, 19, 15,  8, 10,  6, 16, 19, 16,  9, 14,  8, 16, 15,  4,\n",
       "        7, 12,  6,  7, 13, 18,  4,  6, 16, 16, 14,  8, 19, 11, 12, 14, 18,\n",
       "        8, 12,  7,  4,  8,  3, 12,  0, 15, 15,  6,  4,  9, 17, 11, 16, 14,\n",
       "        6, 13, 11, 15,  3,  5,  1,  9,  3, 19,  6, 17,  3, 15, 13,  6, 19,\n",
       "       18,  5,  1, 15, 18,  8,  1, 12, 12,  9,  3, 17, 17,  8, 15,  3, 13,\n",
       "       17,  8, 19, 18, 15, 18,  7, 13,  3, 14, 18, 12, 12,  2,  8,  6, 13,\n",
       "       12, 18, 11, 13, 19, 10,  0, 17,  6,  2, 14, 17,  7, 16, 17,  7,  7,\n",
       "       15, 15, 17,  4,  6, 18,  3,  3, 16,  0,  6, 14, 10,  8, 18, 11,  5,\n",
       "        5,  0, 10,  0,  8, 16,  0,  2, 11,  7,  4, 12, 15, 11, 18,  6,  6,\n",
       "       14,  5, 14,  4, 12, 17, 18,  3,  2,  4,  4, 17,  2, 11,  1,  4,  7,\n",
       "       13,  3, 13,  9,  8, 12, 12,  5,  5, 12,  8, 13, 10,  6, 15,  8, 10,\n",
       "       16,  2,  0,  0,  9,  9,  8,  9,  8,  3, 10, 18, 13,  2,  4, 15, 14,\n",
       "        5,  8,  0, 10, 12,  3, 16,  0,  0,  4,  8, 15, 11,  4,  1, 11, 12,\n",
       "        3, 18,  6, 18, 13, 13,  7, 19, 17, 14, 19, 16,  9, 11, 19,  9, 19,\n",
       "        0, 19,  6,  4, 19,  0, 10, 18,  0,  8,  8,  7, 10,  2,  2, 16,  3,\n",
       "        2,  1, 15, 13,  0, 16,  9,  4, 14,  7, 14, 10, 14,  8, 15, 15,  1,\n",
       "        1,  6,  3, 14, 10, 13,  2, 17, 12, 19,  2, 10,  4, 10,  2, 17,  4,\n",
       "       13, 11,  5,  2], dtype=int64)"
      ]
     },
     "execution_count": 362,
     "metadata": {},
     "output_type": "execute_result"
    }
   ],
   "source": [
    "pre_view2 = model.predict_classes(X_testdata_normalize)\n",
    "pre_view2[:]"
   ]
  },
  {
   "cell_type": "code",
   "execution_count": 363,
   "metadata": {},
   "outputs": [],
   "source": [
    "#Predicted_Probability=model.predict(X_testdata_normalize)\n",
    "#Predicted_Probability[0]"
   ]
  },
  {
   "cell_type": "code",
   "execution_count": null,
   "metadata": {},
   "outputs": [],
   "source": []
  },
  {
   "cell_type": "code",
   "execution_count": 364,
   "metadata": {},
   "outputs": [],
   "source": [
    "label_dictionary = { 0:\"abraham_grampa_simpson\", 1:\"apu_nahasapeemapetilon\", 2:\"bart_simpson\", 3:\"charles_montgomery_burns\", 4:\"chief_wiggum\" ,\n",
    "                     5:\"comic_book_guy\",         6:\"edna_krabappel\" ,        7:\"homer_simpson\",8:\"kent_brockman\",            9:\"krusty_the_clown\",\n",
    "                    10:\"lenny_leonard\",         11:\"lisa_simpson\",          12:\"marge_simpson\",13:\"mayor_quimby\",           14:\"milhouse_van_houten\",\n",
    "                    15:\"moe_szyslak\",           16:\"ned_flanders\",          17:\"nelson_muntz\", 18:\"principal_skinner\",      19:\"sideshow_bob\"}"
   ]
  },
  {
   "cell_type": "code",
   "execution_count": 365,
   "metadata": {
    "scrolled": false
   },
   "outputs": [
    {
     "data": {
      "text/plain": [
       "{0: 'abraham_grampa_simpson',\n",
       " 1: 'apu_nahasapeemapetilon',\n",
       " 2: 'bart_simpson',\n",
       " 3: 'charles_montgomery_burns',\n",
       " 4: 'chief_wiggum',\n",
       " 5: 'comic_book_guy',\n",
       " 6: 'edna_krabappel',\n",
       " 7: 'homer_simpson',\n",
       " 8: 'kent_brockman',\n",
       " 9: 'krusty_the_clown',\n",
       " 10: 'lenny_leonard',\n",
       " 11: 'lisa_simpson',\n",
       " 12: 'marge_simpson',\n",
       " 13: 'mayor_quimby',\n",
       " 14: 'milhouse_van_houten',\n",
       " 15: 'moe_szyslak',\n",
       " 16: 'ned_flanders',\n",
       " 17: 'nelson_muntz',\n",
       " 18: 'principal_skinner',\n",
       " 19: 'sideshow_bob'}"
      ]
     },
     "execution_count": 365,
     "metadata": {},
     "output_type": "execute_result"
    }
   ],
   "source": [
    "label_dictionary"
   ]
  },
  {
   "cell_type": "code",
   "execution_count": 366,
   "metadata": {},
   "outputs": [
    {
     "data": {
      "text/plain": [
       "17"
      ]
     },
     "execution_count": 366,
     "metadata": {},
     "output_type": "execute_result"
    }
   ],
   "source": [
    "pre_view2[0]"
   ]
  },
  {
   "cell_type": "code",
   "execution_count": 367,
   "metadata": {},
   "outputs": [],
   "source": [
    "def plot_images_labels_prediction(prediction,idx,num=990):\n",
    "    for i in range(0,num): \n",
    "        if len(prediction)>0:\n",
    "            print(label_dictionary[prediction[i]])\n",
    "        idx+=1"
   ]
  },
  {
   "cell_type": "code",
   "execution_count": 368,
   "metadata": {},
   "outputs": [
    {
     "data": {
      "text/plain": [
       "'nelson_muntz'"
      ]
     },
     "execution_count": 368,
     "metadata": {},
     "output_type": "execute_result"
    }
   ],
   "source": [
    "AA= label_dictionary[pre_view2[0]]\n",
    "AA"
   ]
  },
  {
   "cell_type": "code",
   "execution_count": 369,
   "metadata": {},
   "outputs": [],
   "source": [
    "#AA = plot_images_labels_prediction(pre_view2,0,990)"
   ]
  },
  {
   "cell_type": "code",
   "execution_count": null,
   "metadata": {},
   "outputs": [],
   "source": []
  },
  {
   "cell_type": "code",
   "execution_count": 372,
   "metadata": {},
   "outputs": [],
   "source": [
    "output = pd.DataFrame(pre_view2,columns=['character'])"
   ]
  },
  {
   "cell_type": "code",
   "execution_count": 373,
   "metadata": {},
   "outputs": [
    {
     "data": {
      "text/html": [
       "<div>\n",
       "<style scoped>\n",
       "    .dataframe tbody tr th:only-of-type {\n",
       "        vertical-align: middle;\n",
       "    }\n",
       "\n",
       "    .dataframe tbody tr th {\n",
       "        vertical-align: top;\n",
       "    }\n",
       "\n",
       "    .dataframe thead th {\n",
       "        text-align: right;\n",
       "    }\n",
       "</style>\n",
       "<table border=\"1\" class=\"dataframe\">\n",
       "  <thead>\n",
       "    <tr style=\"text-align: right;\">\n",
       "      <th></th>\n",
       "      <th>character</th>\n",
       "    </tr>\n",
       "  </thead>\n",
       "  <tbody>\n",
       "    <tr>\n",
       "      <th>0</th>\n",
       "      <td>17</td>\n",
       "    </tr>\n",
       "    <tr>\n",
       "      <th>1</th>\n",
       "      <td>8</td>\n",
       "    </tr>\n",
       "    <tr>\n",
       "      <th>2</th>\n",
       "      <td>16</td>\n",
       "    </tr>\n",
       "    <tr>\n",
       "      <th>3</th>\n",
       "      <td>16</td>\n",
       "    </tr>\n",
       "    <tr>\n",
       "      <th>4</th>\n",
       "      <td>9</td>\n",
       "    </tr>\n",
       "    <tr>\n",
       "      <th>5</th>\n",
       "      <td>11</td>\n",
       "    </tr>\n",
       "    <tr>\n",
       "      <th>6</th>\n",
       "      <td>14</td>\n",
       "    </tr>\n",
       "    <tr>\n",
       "      <th>7</th>\n",
       "      <td>15</td>\n",
       "    </tr>\n",
       "    <tr>\n",
       "      <th>8</th>\n",
       "      <td>12</td>\n",
       "    </tr>\n",
       "    <tr>\n",
       "      <th>9</th>\n",
       "      <td>10</td>\n",
       "    </tr>\n",
       "    <tr>\n",
       "      <th>10</th>\n",
       "      <td>14</td>\n",
       "    </tr>\n",
       "    <tr>\n",
       "      <th>11</th>\n",
       "      <td>13</td>\n",
       "    </tr>\n",
       "    <tr>\n",
       "      <th>12</th>\n",
       "      <td>18</td>\n",
       "    </tr>\n",
       "    <tr>\n",
       "      <th>13</th>\n",
       "      <td>11</td>\n",
       "    </tr>\n",
       "    <tr>\n",
       "      <th>14</th>\n",
       "      <td>5</td>\n",
       "    </tr>\n",
       "    <tr>\n",
       "      <th>15</th>\n",
       "      <td>14</td>\n",
       "    </tr>\n",
       "    <tr>\n",
       "      <th>16</th>\n",
       "      <td>13</td>\n",
       "    </tr>\n",
       "    <tr>\n",
       "      <th>17</th>\n",
       "      <td>9</td>\n",
       "    </tr>\n",
       "    <tr>\n",
       "      <th>18</th>\n",
       "      <td>10</td>\n",
       "    </tr>\n",
       "    <tr>\n",
       "      <th>19</th>\n",
       "      <td>8</td>\n",
       "    </tr>\n",
       "    <tr>\n",
       "      <th>20</th>\n",
       "      <td>9</td>\n",
       "    </tr>\n",
       "    <tr>\n",
       "      <th>21</th>\n",
       "      <td>2</td>\n",
       "    </tr>\n",
       "    <tr>\n",
       "      <th>22</th>\n",
       "      <td>9</td>\n",
       "    </tr>\n",
       "    <tr>\n",
       "      <th>23</th>\n",
       "      <td>7</td>\n",
       "    </tr>\n",
       "    <tr>\n",
       "      <th>24</th>\n",
       "      <td>2</td>\n",
       "    </tr>\n",
       "    <tr>\n",
       "      <th>25</th>\n",
       "      <td>0</td>\n",
       "    </tr>\n",
       "    <tr>\n",
       "      <th>26</th>\n",
       "      <td>13</td>\n",
       "    </tr>\n",
       "    <tr>\n",
       "      <th>27</th>\n",
       "      <td>11</td>\n",
       "    </tr>\n",
       "    <tr>\n",
       "      <th>28</th>\n",
       "      <td>10</td>\n",
       "    </tr>\n",
       "    <tr>\n",
       "      <th>29</th>\n",
       "      <td>14</td>\n",
       "    </tr>\n",
       "    <tr>\n",
       "      <th>...</th>\n",
       "      <td>...</td>\n",
       "    </tr>\n",
       "    <tr>\n",
       "      <th>960</th>\n",
       "      <td>14</td>\n",
       "    </tr>\n",
       "    <tr>\n",
       "      <th>961</th>\n",
       "      <td>7</td>\n",
       "    </tr>\n",
       "    <tr>\n",
       "      <th>962</th>\n",
       "      <td>14</td>\n",
       "    </tr>\n",
       "    <tr>\n",
       "      <th>963</th>\n",
       "      <td>10</td>\n",
       "    </tr>\n",
       "    <tr>\n",
       "      <th>964</th>\n",
       "      <td>14</td>\n",
       "    </tr>\n",
       "    <tr>\n",
       "      <th>965</th>\n",
       "      <td>8</td>\n",
       "    </tr>\n",
       "    <tr>\n",
       "      <th>966</th>\n",
       "      <td>15</td>\n",
       "    </tr>\n",
       "    <tr>\n",
       "      <th>967</th>\n",
       "      <td>15</td>\n",
       "    </tr>\n",
       "    <tr>\n",
       "      <th>968</th>\n",
       "      <td>1</td>\n",
       "    </tr>\n",
       "    <tr>\n",
       "      <th>969</th>\n",
       "      <td>1</td>\n",
       "    </tr>\n",
       "    <tr>\n",
       "      <th>970</th>\n",
       "      <td>6</td>\n",
       "    </tr>\n",
       "    <tr>\n",
       "      <th>971</th>\n",
       "      <td>3</td>\n",
       "    </tr>\n",
       "    <tr>\n",
       "      <th>972</th>\n",
       "      <td>14</td>\n",
       "    </tr>\n",
       "    <tr>\n",
       "      <th>973</th>\n",
       "      <td>10</td>\n",
       "    </tr>\n",
       "    <tr>\n",
       "      <th>974</th>\n",
       "      <td>13</td>\n",
       "    </tr>\n",
       "    <tr>\n",
       "      <th>975</th>\n",
       "      <td>2</td>\n",
       "    </tr>\n",
       "    <tr>\n",
       "      <th>976</th>\n",
       "      <td>17</td>\n",
       "    </tr>\n",
       "    <tr>\n",
       "      <th>977</th>\n",
       "      <td>12</td>\n",
       "    </tr>\n",
       "    <tr>\n",
       "      <th>978</th>\n",
       "      <td>19</td>\n",
       "    </tr>\n",
       "    <tr>\n",
       "      <th>979</th>\n",
       "      <td>2</td>\n",
       "    </tr>\n",
       "    <tr>\n",
       "      <th>980</th>\n",
       "      <td>10</td>\n",
       "    </tr>\n",
       "    <tr>\n",
       "      <th>981</th>\n",
       "      <td>4</td>\n",
       "    </tr>\n",
       "    <tr>\n",
       "      <th>982</th>\n",
       "      <td>10</td>\n",
       "    </tr>\n",
       "    <tr>\n",
       "      <th>983</th>\n",
       "      <td>2</td>\n",
       "    </tr>\n",
       "    <tr>\n",
       "      <th>984</th>\n",
       "      <td>17</td>\n",
       "    </tr>\n",
       "    <tr>\n",
       "      <th>985</th>\n",
       "      <td>4</td>\n",
       "    </tr>\n",
       "    <tr>\n",
       "      <th>986</th>\n",
       "      <td>13</td>\n",
       "    </tr>\n",
       "    <tr>\n",
       "      <th>987</th>\n",
       "      <td>11</td>\n",
       "    </tr>\n",
       "    <tr>\n",
       "      <th>988</th>\n",
       "      <td>5</td>\n",
       "    </tr>\n",
       "    <tr>\n",
       "      <th>989</th>\n",
       "      <td>2</td>\n",
       "    </tr>\n",
       "  </tbody>\n",
       "</table>\n",
       "<p>990 rows × 1 columns</p>\n",
       "</div>"
      ],
      "text/plain": [
       "     character\n",
       "0           17\n",
       "1            8\n",
       "2           16\n",
       "3           16\n",
       "4            9\n",
       "5           11\n",
       "6           14\n",
       "7           15\n",
       "8           12\n",
       "9           10\n",
       "10          14\n",
       "11          13\n",
       "12          18\n",
       "13          11\n",
       "14           5\n",
       "15          14\n",
       "16          13\n",
       "17           9\n",
       "18          10\n",
       "19           8\n",
       "20           9\n",
       "21           2\n",
       "22           9\n",
       "23           7\n",
       "24           2\n",
       "25           0\n",
       "26          13\n",
       "27          11\n",
       "28          10\n",
       "29          14\n",
       "..         ...\n",
       "960         14\n",
       "961          7\n",
       "962         14\n",
       "963         10\n",
       "964         14\n",
       "965          8\n",
       "966         15\n",
       "967         15\n",
       "968          1\n",
       "969          1\n",
       "970          6\n",
       "971          3\n",
       "972         14\n",
       "973         10\n",
       "974         13\n",
       "975          2\n",
       "976         17\n",
       "977         12\n",
       "978         19\n",
       "979          2\n",
       "980         10\n",
       "981          4\n",
       "982         10\n",
       "983          2\n",
       "984         17\n",
       "985          4\n",
       "986         13\n",
       "987         11\n",
       "988          5\n",
       "989          2\n",
       "\n",
       "[990 rows x 1 columns]"
      ]
     },
     "execution_count": 373,
     "metadata": {},
     "output_type": "execute_result"
    }
   ],
   "source": [
    "output[:]"
   ]
  },
  {
   "cell_type": "code",
   "execution_count": 374,
   "metadata": {},
   "outputs": [],
   "source": [
    "testdata_out = pd.read_csv('C:/hw2/all/sampleSubmission.csv')\n",
    "cols =['id']\n",
    "testdata_out = testdata_out[cols]"
   ]
  },
  {
   "cell_type": "code",
   "execution_count": 375,
   "metadata": {},
   "outputs": [],
   "source": [
    "pd = testdata_out\n",
    "pd.insert(len(testdata_out.columns),'character',output)"
   ]
  },
  {
   "cell_type": "code",
   "execution_count": 376,
   "metadata": {},
   "outputs": [],
   "source": [
    "output_cols = [\"id\",\"character\"]\n",
    "pd = pd[output_cols]"
   ]
  },
  {
   "cell_type": "code",
   "execution_count": 377,
   "metadata": {},
   "outputs": [],
   "source": [
    "pd.to_csv('C:/hw2/all/107368020test.csv',index=False,header=True)"
   ]
  },
  {
   "cell_type": "code",
   "execution_count": null,
   "metadata": {},
   "outputs": [],
   "source": []
  }
 ],
 "metadata": {
  "kernelspec": {
   "display_name": "Python 3",
   "language": "python",
   "name": "python3"
  },
  "language_info": {
   "codemirror_mode": {
    "name": "ipython",
    "version": 3
   },
   "file_extension": ".py",
   "mimetype": "text/x-python",
   "name": "python",
   "nbconvert_exporter": "python",
   "pygments_lexer": "ipython3",
   "version": "3.6.6"
  }
 },
 "nbformat": 4,
 "nbformat_minor": 2
}
