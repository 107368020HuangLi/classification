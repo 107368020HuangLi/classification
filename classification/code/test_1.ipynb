{
 "cells": [
  {
   "cell_type": "code",
   "execution_count": 61,
   "metadata": {},
   "outputs": [],
   "source": [
    "from PIL import Image\n",
    "import matplotlib.pyplot as plot\n",
    "import os,sys\n",
    "from keras.preprocessing.image import ImageDataGenerator, array_to_img, img_to_array, load_img"
   ]
  },
  {
   "cell_type": "code",
   "execution_count": 62,
   "metadata": {},
   "outputs": [],
   "source": [
    "row,column = 64,64  #图片大小\n",
    "\n",
    "pathTrainDataBomei_0 = 'C:/hw2/all/train/characters-20/abraham_grampa_simpson/'\n",
    "pathResizedTrainDataBomei_0 = 'C:/hw2/all/new_train/abraham_grampa_simpson/'\n",
    "listingDog_0 = os.listdir(pathTrainDataBomei_0) #图片原地址\n",
    "\n",
    "pathTrainDataBomei_1 = 'C:/hw2/all/train/characters-20/apu_nahasapeemapetilon/'\n",
    "pathResizedTrainDataBomei_1 = 'C:/hw2/all/new_train/apu_nahasapeemapetilon/'\n",
    "listingDog_1 = os.listdir(pathTrainDataBomei_1) #图片原地址\n",
    "\n",
    "pathTrainDataBomei_2 = 'C:/hw2/all/train/characters-20/bart_simpson/'\n",
    "pathResizedTrainDataBomei_2 = 'C:/hw2/all/new_train/bart_simpson/'\n",
    "listingDog_2 = os.listdir(pathTrainDataBomei_2) #图片原地址\n",
    "\n",
    "pathTrainDataBomei_3 = 'C:/hw2/all/train/characters-20/charles_montgomery_burns/'\n",
    "pathResizedTrainDataBomei_3 = 'C:/hw2/all/new_train/charles_montgomery_burns/'\n",
    "listingDog_3 = os.listdir(pathTrainDataBomei_3) #图片原地址\n",
    "\n",
    "pathTrainDataBomei_4 = 'C:/hw2/all/train/characters-20/chief_wiggum/'\n",
    "pathResizedTrainDataBomei_4 = 'C:/hw2/all/new_train/chief_wiggum/'\n",
    "listingDog_4 = os.listdir(pathTrainDataBomei_4) #图片原地址\n",
    "\n",
    "pathTrainDataBomei_5 = 'C:/hw2/all/train/characters-20/comic_book_guy/'\n",
    "pathResizedTrainDataBomei_5 = 'C:/hw2/all/new_train/comic_book_guy/'\n",
    "listingDog_5 = os.listdir(pathTrainDataBomei_5) #图片原地址\n",
    "\n",
    "pathTrainDataBomei_6 = 'C:/hw2/all/train/characters-20/edna_krabappel/'\n",
    "pathResizedTrainDataBomei_6 = 'C:/hw2/all/new_train/edna_krabappel/'\n",
    "listingDog_6 = os.listdir(pathTrainDataBomei_6) #图片原地址\n",
    "\n",
    "pathTrainDataBomei_7 = 'C:/hw2/all/train/characters-20/homer_simpson/'\n",
    "pathResizedTrainDataBomei_7 = 'C:/hw2/all/new_train/homer_simpson/'\n",
    "listingDog_7 = os.listdir(pathTrainDataBomei_7) #图片原地址\n",
    "\n",
    "pathTrainDataBomei_8 = 'C:/hw2/all/train/characters-20/kent_brockman/'\n",
    "pathResizedTrainDataBomei_8 = 'C:/hw2/all/new_train/kent_brockman/'\n",
    "listingDog_8 = os.listdir(pathTrainDataBomei_8) #图片原地址\n",
    "\n",
    "pathTrainDataBomei_9 = 'C:/hw2/all/train/characters-20/krusty_the_clown/'\n",
    "pathResizedTrainDataBomei_9 = 'C:/hw2/all/new_train/krusty_the_clown/'\n",
    "listingDog_9 = os.listdir(pathTrainDataBomei_9) #图片原地址\n",
    "\n",
    "pathTrainDataBomei_10 = 'C:/hw2/all/train/characters-20/lenny_leonard/'\n",
    "pathResizedTrainDataBomei_10 = 'C:/hw2/all/new_train/lenny_leonard/'\n",
    "listingDog_10 = os.listdir(pathTrainDataBomei_10) #图片原地址\n",
    "\n",
    "pathTrainDataBomei_11 = 'C:/hw2/all/train/characters-20/lisa_simpson/'\n",
    "pathResizedTrainDataBomei_11 = 'C:/hw2/all/new_train/lisa_simpson/'\n",
    "listingDog_11 = os.listdir(pathTrainDataBomei_11) #图片原地址\n",
    "\n",
    "pathTrainDataBomei_12 = 'C:/hw2/all/train/characters-20/marge_simpson/'\n",
    "pathResizedTrainDataBomei_12 = 'C:/hw2/all/new_train/marge_simpson/'\n",
    "listingDog_12 = os.listdir(pathTrainDataBomei_12) #图片原地址\n",
    "\n",
    "pathTrainDataBomei_13 = 'C:/hw2/all/train/characters-20/mayor_quimby/'\n",
    "pathResizedTrainDataBomei_13 = 'C:/hw2/all/new_train/mayor_quimby/'\n",
    "listingDog_13 = os.listdir(pathTrainDataBomei_13) #图片原地址\n",
    "\n",
    "pathTrainDataBomei_14 = 'C:/hw2/all/train/characters-20/milhouse_van_houten/'\n",
    "pathResizedTrainDataBomei_14 = 'C:/hw2/all/new_train/milhouse_van_houten/'\n",
    "listingDog_14 = os.listdir(pathTrainDataBomei_14) #图片原地址\n",
    "\n",
    "\n",
    "pathTrainDataBomei_15 = 'C:/hw2/all/train/characters-20/moe_szyslak/'\n",
    "pathResizedTrainDataBomei_15 = 'C:/hw2/all/new_train/moe_szyslak/'\n",
    "listingDog_15 = os.listdir(pathTrainDataBomei_15) #图片原地址\n",
    "\n",
    "pathTrainDataBomei_16 = 'C:/hw2/all/train/characters-20/ned_flanders/'\n",
    "pathResizedTrainDataBomei_16 = 'C:/hw2/all/new_train/ned_flanders/'\n",
    "listingDog_16 = os.listdir(pathTrainDataBomei_16) #图片原地址\n",
    "\n",
    "pathTrainDataBomei_17 = 'C:/hw2/all/train/characters-20/nelson_muntz/'\n",
    "pathResizedTrainDataBomei_17 = 'C:/hw2/all/new_train/nelson_muntz/'\n",
    "listingDog_17 = os.listdir(pathTrainDataBomei_17) #图片原地址\n",
    "\n",
    "pathTrainDataBomei_18 = 'C:/hw2/all/train/characters-20/principal_skinner/'\n",
    "pathResizedTrainDataBomei_18 = 'C:/hw2/all/new_train/principal_skinner/'\n",
    "listingDog_18 = os.listdir(pathTrainDataBomei_18) #图片原地址\n",
    "\n",
    "pathTrainDataBomei_19 = 'C:/hw2/all/train/characters-20/sideshow_bob/'\n",
    "pathResizedTrainDataBomei_19 = 'C:/hw2/all/new_train/sideshow_bob/'\n",
    "listingDog_19 = os.listdir(pathTrainDataBomei_19) #图片原地址"
   ]
  },
  {
   "cell_type": "code",
   "execution_count": 63,
   "metadata": {},
   "outputs": [],
   "source": [
    "pathTestDataBomei_testdata = 'C:/hw2/all/testtest/'\n",
    "pathResizedTestDataBomei_testdata = 'C:/hw2/all/testtest2/'\n",
    "listingDog_testdata = os.listdir(pathTestDataBomei_testdata) #图片原地址"
   ]
  },
  {
   "cell_type": "code",
   "execution_count": 64,
   "metadata": {},
   "outputs": [],
   "source": [
    "for file in listingDog_0 :\n",
    "    if file != '.DS_Store' :\n",
    "        img = Image.open(pathTrainDataBomei_0  + file)\n",
    "        resizeImg = img.resize((row,column))\n",
    "        resizeImg .save(pathResizedTrainDataBomei_0 + file)"
   ]
  },
  {
   "cell_type": "code",
   "execution_count": 65,
   "metadata": {},
   "outputs": [],
   "source": [
    "for file in listingDog_1 :\n",
    "    if file != '.DS_Store' :\n",
    "        img = Image.open(pathTrainDataBomei_1  + file)\n",
    "        resizeImg = img.resize((row,column))\n",
    "        resizeImg.save(pathResizedTrainDataBomei_1 + file)"
   ]
  },
  {
   "cell_type": "code",
   "execution_count": 66,
   "metadata": {},
   "outputs": [],
   "source": [
    "for file in listingDog_2 :\n",
    "    if file != '.DS_Store' :\n",
    "        img = Image.open(pathTrainDataBomei_2  + file)\n",
    "        resizeImg = img.resize((row,column))\n",
    "        resizeImg.save(pathResizedTrainDataBomei_2 + file)"
   ]
  },
  {
   "cell_type": "code",
   "execution_count": 67,
   "metadata": {},
   "outputs": [],
   "source": [
    "for file in listingDog_3 :\n",
    "    if file != '.DS_Store' :\n",
    "        img = Image.open(pathTrainDataBomei_3  + file)\n",
    "        resizeImg = img.resize((row,column))\n",
    "        resizeImg.save(pathResizedTrainDataBomei_3 + file)"
   ]
  },
  {
   "cell_type": "code",
   "execution_count": 68,
   "metadata": {},
   "outputs": [],
   "source": [
    "for file in listingDog_4 :\n",
    "    if file != '.DS_Store' :\n",
    "        img = Image.open(pathTrainDataBomei_4  + file)\n",
    "        resizeImg = img.resize((row,column))\n",
    "        resizeImg.save(pathResizedTrainDataBomei_4 + file)"
   ]
  },
  {
   "cell_type": "code",
   "execution_count": 69,
   "metadata": {},
   "outputs": [],
   "source": [
    "for file in listingDog_5 :\n",
    "    if file != '.DS_Store' :\n",
    "        img = Image.open(pathTrainDataBomei_5  + file)\n",
    "        resizeImg = img.resize((row,column))\n",
    "        resizeImg.save(pathResizedTrainDataBomei_5 + file)"
   ]
  },
  {
   "cell_type": "code",
   "execution_count": 70,
   "metadata": {},
   "outputs": [],
   "source": [
    "for file in listingDog_6 :\n",
    "    if file != '.DS_Store' :\n",
    "        img = Image.open(pathTrainDataBomei_6  + file)\n",
    "        resizeImg = img.resize((row,column))\n",
    "        resizeImg.save(pathResizedTrainDataBomei_6 + file)"
   ]
  },
  {
   "cell_type": "code",
   "execution_count": 71,
   "metadata": {},
   "outputs": [],
   "source": [
    "for file in listingDog_7 :\n",
    "    if file != '.DS_Store' :\n",
    "        img = Image.open(pathTrainDataBomei_7  + file)\n",
    "        resizeImg = img.resize((row,column))\n",
    "        resizeImg.save(pathResizedTrainDataBomei_7 + file)"
   ]
  },
  {
   "cell_type": "code",
   "execution_count": 72,
   "metadata": {},
   "outputs": [],
   "source": [
    "for file in listingDog_8 :\n",
    "    if file != '.DS_Store' :\n",
    "        img = Image.open(pathTrainDataBomei_8  + file)\n",
    "        resizeImg = img.resize((row,column))\n",
    "        resizeImg.save(pathResizedTrainDataBomei_8 + file)"
   ]
  },
  {
   "cell_type": "code",
   "execution_count": 73,
   "metadata": {},
   "outputs": [],
   "source": [
    "for file in listingDog_9 :\n",
    "    if file != '.DS_Store' :\n",
    "        img = Image.open(pathTrainDataBomei_9  + file)\n",
    "        resizeImg = img.resize((row,column))\n",
    "        resizeImg.save(pathResizedTrainDataBomei_9 + file)"
   ]
  },
  {
   "cell_type": "code",
   "execution_count": 74,
   "metadata": {},
   "outputs": [],
   "source": [
    "for file in listingDog_10 :\n",
    "    if file != '.DS_Store' :\n",
    "        img = Image.open(pathTrainDataBomei_10  + file)\n",
    "        resizeImg = img.resize((row,column))\n",
    "        resizeImg.save(pathResizedTrainDataBomei_10 + file)"
   ]
  },
  {
   "cell_type": "code",
   "execution_count": 75,
   "metadata": {},
   "outputs": [],
   "source": [
    "for file in listingDog_11 :\n",
    "    if file != '.DS_Store' :\n",
    "        img = Image.open(pathTrainDataBomei_11  + file)\n",
    "        resizeImg = img.resize((row,column))\n",
    "        resizeImg.save(pathResizedTrainDataBomei_11 + file)"
   ]
  },
  {
   "cell_type": "code",
   "execution_count": 76,
   "metadata": {},
   "outputs": [],
   "source": [
    "for file in listingDog_12 :\n",
    "    if file != '.DS_Store' :\n",
    "        img = Image.open(pathTrainDataBomei_12  + file)\n",
    "        resizeImg = img.resize((row,column))\n",
    "        resizeImg.save(pathResizedTrainDataBomei_12 + file)"
   ]
  },
  {
   "cell_type": "code",
   "execution_count": 77,
   "metadata": {},
   "outputs": [],
   "source": [
    "for file in listingDog_13 :\n",
    "    if file != '.DS_Store' :\n",
    "        img = Image.open(pathTrainDataBomei_13  + file)\n",
    "        resizeImg = img.resize((row,column))\n",
    "        resizeImg.save(pathResizedTrainDataBomei_13 + file)"
   ]
  },
  {
   "cell_type": "code",
   "execution_count": 78,
   "metadata": {},
   "outputs": [],
   "source": [
    "for file in listingDog_14 :\n",
    "    if file != '.DS_Store' :\n",
    "        img = Image.open(pathTrainDataBomei_14  + file)\n",
    "        resizeImg = img.resize((row,column))\n",
    "        resizeImg.save(pathResizedTrainDataBomei_14 + file)"
   ]
  },
  {
   "cell_type": "code",
   "execution_count": 79,
   "metadata": {},
   "outputs": [],
   "source": [
    "for file in listingDog_15 :\n",
    "    if file != '.DS_Store' :\n",
    "        img = Image.open(pathTrainDataBomei_15  + file)\n",
    "        resizeImg = img.resize((row,column))\n",
    "        resizeImg.save(pathResizedTrainDataBomei_15 + file)"
   ]
  },
  {
   "cell_type": "code",
   "execution_count": 80,
   "metadata": {},
   "outputs": [],
   "source": [
    "for file in listingDog_16 :\n",
    "    if file != '.DS_Store' :\n",
    "        img = Image.open(pathTrainDataBomei_16  + file)\n",
    "        resizeImg = img.resize((row,column))\n",
    "        resizeImg.save(pathResizedTrainDataBomei_16 + file)"
   ]
  },
  {
   "cell_type": "code",
   "execution_count": 81,
   "metadata": {},
   "outputs": [],
   "source": [
    "for file in listingDog_17 :\n",
    "    if file != '.DS_Store' :\n",
    "        img = Image.open(pathTrainDataBomei_17  + file)\n",
    "        resizeImg = img.resize((row,column))\n",
    "        resizeImg.save(pathResizedTrainDataBomei_17 + file)"
   ]
  },
  {
   "cell_type": "code",
   "execution_count": 82,
   "metadata": {},
   "outputs": [],
   "source": [
    "for file in listingDog_18 :\n",
    "    if file != '.DS_Store' :\n",
    "        img = Image.open(pathTrainDataBomei_18  + file)\n",
    "        resizeImg = img.resize((row,column))\n",
    "        resizeImg.save(pathResizedTrainDataBomei_18 + file)"
   ]
  },
  {
   "cell_type": "code",
   "execution_count": 83,
   "metadata": {},
   "outputs": [],
   "source": [
    "for file in listingDog_19 :\n",
    "    if file != '.DS_Store' :\n",
    "        img = Image.open(pathTrainDataBomei_19  + file)\n",
    "        resizeImg = img.resize((row,column))\n",
    "        resizeImg.save(pathResizedTrainDataBomei_19 + file)"
   ]
  },
  {
   "cell_type": "code",
   "execution_count": 84,
   "metadata": {},
   "outputs": [],
   "source": [
    "for file in listingDog_testdata :\n",
    "    if file != '.DS_Store' :\n",
    "        img = Image.open(pathTestDataBomei_testdata  + file)\n",
    "        resizeImg = img.resize((row,column))\n",
    "        resizeImg.save(pathResizedTestDataBomei_testdata + file)"
   ]
  },
  {
   "cell_type": "code",
   "execution_count": null,
   "metadata": {},
   "outputs": [],
   "source": []
  }
 ],
 "metadata": {
  "kernelspec": {
   "display_name": "Python 3",
   "language": "python",
   "name": "python3"
  },
  "language_info": {
   "codemirror_mode": {
    "name": "ipython",
    "version": 3
   },
   "file_extension": ".py",
   "mimetype": "text/x-python",
   "name": "python",
   "nbconvert_exporter": "python",
   "pygments_lexer": "ipython3",
   "version": "3.6.6"
  }
 },
 "nbformat": 4,
 "nbformat_minor": 2
}
